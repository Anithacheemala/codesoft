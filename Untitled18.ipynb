{
  "cells": [
    {
      "cell_type": "markdown",
      "metadata": {
        "id": "view-in-github",
        "colab_type": "text"
      },
      "source": [
        "<a href=\"https://colab.research.google.com/github/Anithacheemala/codesoft/blob/main/Untitled18.ipynb\" target=\"_parent\"><img src=\"https://colab.research.google.com/assets/colab-badge.svg\" alt=\"Open In Colab\"/></a>"
      ]
    },
    {
      "cell_type": "code",
      "execution_count": null,
      "metadata": {
        "colab": {
          "base_uri": "https://localhost:8080/"
        },
        "id": "yOA0n56vMYfF",
        "outputId": "7bf4514e-b827-4dbf-8498-46e3d32137be"
      },
      "outputs": [
        {
          "output_type": "stream",
          "name": "stdout",
          "text": [
            "Welcome! Type 'bye' to exit.\n",
            "You: hi\n",
            "Chatbot: Hello there! How can I help you today?\n"
          ]
        }
      ],
      "source": [
        "def simple_chatbot(user_input):\n",
        "    # Convert user input to lowercase for easier comparison\n",
        "    user_input = user_input.lower()\n",
        "\n",
        "    # Define predefined rules and responses\n",
        "    greetings = [\"hello\", \"hi\", \"hey\", \"hola\"]\n",
        "    farewell = [\"bye\", \"goodbye\", \"see you\"]\n",
        "    how_are_you = [\"how are you\", \"how are you?\", \"how are you doing\"]\n",
        "\n",
        "    # Check user input against predefined rules\n",
        "    if user_input in greetings:\n",
        "        return \"Hello there! How can I help you today?\"\n",
        "\n",
        "    elif user_input in farewell:\n",
        "        return \"Goodbye! Have a great day!\"\n",
        "\n",
        "    elif user_input in how_are_you:\n",
        "        return \"I'm just a simple bot, but thank you for asking!\"\n",
        "\n",
        "    else:\n",
        "        return \"I'm not sure how to respond to that. Can you ask me something else?\"\n",
        "\n",
        "# Example interaction with the chatbot\n",
        "print(\"Welcome! Type 'bye' to exit.\")\n",
        "while True:\n",
        "    user_input = input(\"You: \")\n",
        "    if user_input.lower() == 'bye':\n",
        "        print(\"Chatbot: Goodbye!\")\n",
        "        break\n",
        "    else:\n",
        "        response = simple_chatbot(user_input)\n",
        "        print(\"Chatbot:\", response)\n"
      ]
    }
  ],
  "metadata": {
    "colab": {
      "provenance": [],
      "authorship_tag": "ABX9TyNbjbPnxuIKirVtCjA2a7UF",
      "include_colab_link": true
    },
    "kernelspec": {
      "display_name": "Python 3",
      "name": "python3"
    },
    "language_info": {
      "name": "python"
    }
  },
  "nbformat": 4,
  "nbformat_minor": 0
}