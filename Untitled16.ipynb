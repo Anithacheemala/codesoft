{
  "nbformat": 4,
  "nbformat_minor": 0,
  "metadata": {
    "colab": {
      "provenance": [],
      "authorship_tag": "ABX9TyMif2GfhmecNP0eCLWrM2pf",
      "include_colab_link": true
    },
    "kernelspec": {
      "name": "python3",
      "display_name": "Python 3"
    },
    "language_info": {
      "name": "python"
    }
  },
  "cells": [
    {
      "cell_type": "markdown",
      "metadata": {
        "id": "view-in-github",
        "colab_type": "text"
      },
      "source": [
        "<a href=\"https://colab.research.google.com/github/Anithacheemala/codesoft/blob/main/Untitled16.ipynb\" target=\"_parent\"><img src=\"https://colab.research.google.com/assets/colab-badge.svg\" alt=\"Open In Colab\"/></a>"
      ]
    },
    {
      "cell_type": "code",
      "execution_count": 1,
      "metadata": {
        "colab": {
          "base_uri": "https://localhost:8080/"
        },
        "id": "__haXsOnHh61",
        "outputId": "b54b6945-960f-4a93-d88b-f0540f35c13b"
      },
      "outputs": [
        {
          "output_type": "stream",
          "name": "stdout",
          "text": [
            "Recommendations for 'The Dark Knight':\n",
            "0    The Shawshank Redemption\n",
            "1               The Godfather\n",
            "3                Pulp Fiction\n",
            "4                Forrest Gump\n",
            "Name: Title, dtype: object\n"
          ]
        }
      ],
      "source": [
        "# Import necessary libraries\n",
        "import pandas as pd\n",
        "from sklearn.feature_extraction.text import TfidfVectorizer\n",
        "from sklearn.metrics.pairwise import linear_kernel\n",
        "\n",
        "# Sample movie data (title, genre)\n",
        "data = {\n",
        "    'Title': ['The Shawshank Redemption', 'The Godfather', 'The Dark Knight', 'Pulp Fiction', 'Forrest Gump'],\n",
        "    'Genre': ['Drama', 'Crime', 'Action', 'Crime', 'Drama']\n",
        "}\n",
        "\n",
        "# Create a DataFrame from the sample data\n",
        "movies = pd.DataFrame(data)\n",
        "\n",
        "# Initialize TF-IDF Vectorizer\n",
        "tfidf = TfidfVectorizer(stop_words='english')\n",
        "\n",
        "# Replace NaN with an empty string\n",
        "movies['Genre'] = movies['Genre'].fillna('')\n",
        "\n",
        "# Construct the TF-IDF matrix by fitting and transforming the data\n",
        "tfidf_matrix = tfidf.fit_transform(movies['Genre'])\n",
        "\n",
        "# Compute the cosine similarity matrix\n",
        "cosine_sim = linear_kernel(tfidf_matrix, tfidf_matrix)\n",
        "\n",
        "# Function to get recommendations based on movie title\n",
        "def get_recommendations(title, cosine_sim=cosine_sim):\n",
        "    # Get the index of the movie that matches the title\n",
        "    idx = movies[movies['Title'] == title].index[0]\n",
        "\n",
        "    # Get the pairwise similarity scores of all movies with that movie\n",
        "    sim_scores = list(enumerate(cosine_sim[idx]))\n",
        "\n",
        "    # Sort the movies based on the similarity scores\n",
        "    sim_scores = sorted(sim_scores, key=lambda x: x[1], reverse=True)\n",
        "\n",
        "    # Get the scores of the 5 most similar movies\n",
        "    sim_scores = sim_scores[1:6]\n",
        "\n",
        "    # Get the movie indices\n",
        "    movie_indices = [i[0] for i in sim_scores]\n",
        "\n",
        "    # Return the top 5 most similar movies\n",
        "    return movies['Title'].iloc[movie_indices]\n",
        "\n",
        "# Get recommendations for a movie\n",
        "movie_title = 'The Dark Knight'\n",
        "recommendations = get_recommendations(movie_title)\n",
        "\n",
        "print(f\"Recommendations for '{movie_title}':\")\n",
        "print(recommendations)\n"
      ]
    }
  ]
}