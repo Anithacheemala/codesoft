{
  "nbformat": 4,
  "nbformat_minor": 0,
  "metadata": {
    "colab": {
      "provenance": [],
      "authorship_tag": "ABX9TyNRKGCtueLmqCr1G5wAl2yK",
      "include_colab_link": true
    },
    "kernelspec": {
      "name": "python3",
      "display_name": "Python 3"
    },
    "language_info": {
      "name": "python"
    }
  },
  "cells": [
    {
      "cell_type": "markdown",
      "metadata": {
        "id": "view-in-github",
        "colab_type": "text"
      },
      "source": [
        "<a href=\"https://colab.research.google.com/github/Anithacheemala/codesoft/blob/main/Untitled17.ipynb\" target=\"_parent\"><img src=\"https://colab.research.google.com/assets/colab-badge.svg\" alt=\"Open In Colab\"/></a>"
      ]
    },
    {
      "cell_type": "code",
      "source": [
        "import cv2\n",
        "\n",
        "# Load pre-trained face detection model from OpenCV\n",
        "face_cascade = cv2.CascadeClassifier(cv2.data.haarcascades + 'haarcascade_frontalface_default.xml')\n",
        "\n",
        "# Function for face detection in an image\n",
        "def detect_faces(image):\n",
        "    gray = cv2.cvtColor(image, cv2.COLOR_BGR2GRAY)\n",
        "    faces = face_cascade.detectMultiScale(gray, scaleFactor=1.1, minNeighbors=5, minSize=(30, 30))\n",
        "\n",
        "    for (x, y, w, h) in faces:\n",
        "        cv2.rectangle(image, (x, y), (x+w, y+h), (255, 0, 0), 2)\n",
        "\n",
        "    return image\n",
        "\n",
        "# Read an image\n",
        "image_path = 'path_to_image.jpg'  # Replace with the full path to your image file\n",
        "image = cv2.imread(image_path)\n",
        "\n",
        "# Check if the image was read successfully\n",
        "if image is not None:\n",
        "    # Perform face detection\n",
        "    detected_faces_image = detect_faces(image)\n",
        "\n",
        "    # Display the result\n",
        "    cv2.imshow('Detected Faces', detected_faces_image)\n",
        "    cv2.waitKey(0)\n",
        "    cv2.destroyAllWindows()\n",
        "else:\n",
        "    print(\"Could not read the image. Please check the file path.\")\n"
      ],
      "metadata": {
        "id": "l6Cl83mjJoOJ",
        "outputId": "adc1bad7-6050-4292-b067-007a56275421",
        "colab": {
          "base_uri": "https://localhost:8080/"
        }
      },
      "execution_count": null,
      "outputs": [
        {
          "output_type": "stream",
          "name": "stdout",
          "text": [
            "Could not read the image. Please check the file path.\n"
          ]
        }
      ]
    }
  ]
}