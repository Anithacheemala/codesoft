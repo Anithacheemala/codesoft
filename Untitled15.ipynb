{
  "nbformat": 4,
  "nbformat_minor": 0,
  "metadata": {
    "colab": {
      "provenance": [],
      "authorship_tag": "ABX9TyPCkA+LGL8EIxNEwIH9gGcc",
      "include_colab_link": true
    },
    "kernelspec": {
      "name": "python3",
      "display_name": "Python 3"
    },
    "language_info": {
      "name": "python"
    }
  },
  "cells": [
    {
      "cell_type": "markdown",
      "metadata": {
        "id": "view-in-github",
        "colab_type": "text"
      },
      "source": [
        "<a href=\"https://colab.research.google.com/github/Anithacheemala/codesoft/blob/main/Untitled15.ipynb\" target=\"_parent\"><img src=\"https://colab.research.google.com/assets/colab-badge.svg\" alt=\"Open In Colab\"/></a>"
      ]
    },
    {
      "cell_type": "code",
      "source": [
        "import torch\n",
        "import torchvision.transforms as transforms\n",
        "from PIL import Image\n",
        "import nltk\n",
        "from nltk.tokenize import word_tokenize\n",
        "\n",
        "# Download NLTK data\n",
        "nltk.download('punkt')\n",
        "\n",
        "# Load pre-trained ResNet model\n",
        "resnet = torch.hub.load('pytorch/vision:v0.10.0', 'resnet50', pretrained=True)\n",
        "resnet.eval()\n",
        "\n",
        "# Image preprocessing\n",
        "def preprocess_image(image_path):\n",
        "    transform = transforms.Compose([\n",
        "        transforms.Resize(256),\n",
        "        transforms.CenterCrop(224),\n",
        "        transforms.ToTensor(),\n",
        "        transforms.Normalize(mean=[0.485, 0.456, 0.406], std=[0.229, 0.224, 0.225]),\n",
        "    ])\n",
        "    image = Image.open(image_path).convert('RGB')\n",
        "    image = transform(image).unsqueeze(0)\n",
        "    return image\n",
        "\n",
        "# Get image features using ResNet\n",
        "def get_image_features(image_path):\n",
        "    image = preprocess_image(image_path)\n",
        "    with torch.no_grad():\n",
        "        features = resnet(image)\n",
        "    return features\n",
        "\n",
        "# Example image path\n",
        "image_path = 'path_to_image.jpg'  # Replace with the path to your image\n",
        "\n",
        "try:\n",
        "    # Get image features\n",
        "    image_features = get_image_features(image_path)\n",
        "\n",
        "    # LSTM model parameters and further captioning code...\n",
        "\n",
        "except FileNotFoundError:\n",
        "    print(\"Image file not found. Please check the file path.\")\n",
        "except Exception as e:\n",
        "    print(\"An error occurred:\", e)\n"
      ],
      "metadata": {
        "colab": {
          "base_uri": "https://localhost:8080/"
        },
        "id": "TlTW9k59Krrn",
        "outputId": "e543c2d6-4617-41c7-ac38-abce62d3eba5"
      },
      "execution_count": 5,
      "outputs": [
        {
          "output_type": "stream",
          "name": "stderr",
          "text": [
            "[nltk_data] Downloading package punkt to /root/nltk_data...\n",
            "[nltk_data]   Package punkt is already up-to-date!\n",
            "Using cache found in /root/.cache/torch/hub/pytorch_vision_v0.10.0\n"
          ]
        },
        {
          "output_type": "stream",
          "name": "stdout",
          "text": [
            "Image file not found. Please check the file path.\n"
          ]
        }
      ]
    }
  ]
}